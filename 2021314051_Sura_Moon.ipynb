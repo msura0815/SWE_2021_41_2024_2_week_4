{
  "nbformat": 4,
  "nbformat_minor": 0,
  "metadata": {
    "colab": {
      "provenance": []
    },
    "kernelspec": {
      "name": "python3",
      "display_name": "Python 3"
    },
    "language_info": {
      "name": "python"
    }
  },
  "cells": [
    {
      "cell_type": "markdown",
      "source": [
        "## Task\n",
        "- Complete **isHappy** function following the description below\n",
        "\n",
        "### Happy Number\n",
        "Write an algorithm to determine if a number **n** is happy.\n",
        "\n",
        "A **happy number** is a number defined by the following process:\n",
        "\n",
        "* Starting with any positive integer, replace the number by the sum of the squares of its digits.\n",
        "* Repeat the process until the number equals 1 (where it will stay), or it **loops endlessly in a cycle** which does not include 1.\n",
        "* Those numbers for which this process **ends in 1** are happy.\n",
        "\n",
        "Return **true** if n is a happy number, and **false** if not.\n",
        "\n",
        "Constraints:\n",
        "1 <= n <= $2^{31}$ - 1"
      ],
      "metadata": {
        "id": "TV3Socqg8BVl"
      }
    },
    {
      "cell_type": "code",
      "source": [
        "def isHappy(n):\n",
        "    def cal(n):\n",
        "        sum = 0\n",
        "        strn = str(n)  # to calculate the length of digits\n",
        "        tens = len(str(n)) # length of digits\n",
        "        for i in range(tens): # iterate for the number of digits\n",
        "            sum += int(strn[i]) ** 2\n",
        "        return sum\n",
        "\n",
        "    temp = []  # save the temporarary values\n",
        "    while n != 1 and n not in temp: # until the number equals 1\n",
        "        temp.append(n)\n",
        "        n = cal(n)\n",
        "\n",
        "    return n == 1  # True / False\n",
        "\n",
        "num = int(input(\"Please enter a positive integer: \"))\n",
        "\n",
        "if num < 1 or num > 2**31 - 1: #constraints\n",
        "    print(\"input error\")\n",
        "else:\n",
        "    print(isHappy(num))  # function\n"
      ],
      "metadata": {
        "colab": {
          "base_uri": "https://localhost:8080/"
        },
        "id": "c0tFiGpCokmY",
        "outputId": "e750f862-b544-4e23-d4f5-2ba9f09cde30"
      },
      "execution_count": 40,
      "outputs": [
        {
          "output_type": "stream",
          "name": "stdout",
          "text": [
            "Please enter a positive integer: 19\n",
            "True\n"
          ]
        }
      ]
    },
    {
      "cell_type": "markdown",
      "source": [
        "**Testcase 1.**\n",
        "\n",
        "**Input**: 19\n",
        "\n",
        "**Output**: True\n",
        "\n",
        "**Explanation**:\n",
        "\n",
        "$1^2 + 9^2 = 82$\n",
        "\n",
        "$8^2 + 2^2 = 68$\n",
        "\n",
        "$6^2 + 8^2 = 100$\n",
        "\n",
        "$1^2 + 0^2 + 0^2 = 1$"
      ],
      "metadata": {
        "id": "eRrh24Ognrqf"
      }
    },
    {
      "cell_type": "markdown",
      "source": [
        "**Testcase 2.**\n",
        "\n",
        "**Input**: 2\n",
        "\n",
        "**Output**: False"
      ],
      "metadata": {
        "id": "dE7YMY8qoPoj"
      }
    }
  ]
}